{
 "cells": [
  {
   "cell_type": "code",
   "execution_count": 1,
   "metadata": {},
   "outputs": [],
   "source": [
    "import pandas as pd"
   ]
  },
  {
   "cell_type": "code",
   "execution_count": 2,
   "metadata": {},
   "outputs": [],
   "source": [
    "df = pd.read_csv(\"../../results/preds.csv\")\n"
   ]
  },
  {
   "cell_type": "code",
   "execution_count": 5,
   "metadata": {},
   "outputs": [
    {
     "data": {
      "text/plain": [
       "0      ('no slave can open the door to fewer than six...\n",
       "1      ('no slave can open the door to at most six li...\n",
       "2      ('no slave can open the door to fewer than ten...\n",
       "3      ('no slave can open the door to at most ten pr...\n",
       "4      ('no slave can open the door to fewer than thi...\n",
       "                             ...                        \n",
       "795    ('no wolf could stand on top of at least thirt...\n",
       "796    ('no wolf could stand on top of more than thir...\n",
       "797    ('no wolf could stand on top of at least thirt...\n",
       "798    ('no wolf could stand on top of more than twen...\n",
       "799    ('no wolf could stand on top of at least twent...\n",
       "Name: 0, Length: 800, dtype: object"
      ]
     },
     "execution_count": 5,
     "metadata": {},
     "output_type": "execute_result"
    }
   ],
   "source": [
    "df['0']"
   ]
  },
  {
   "cell_type": "code",
   "execution_count": null,
   "metadata": {},
   "outputs": [],
   "source": []
  }
 ],
 "metadata": {
  "kernelspec": {
   "display_name": "HolmesEvaluation",
   "language": "python",
   "name": "python3"
  },
  "language_info": {
   "codemirror_mode": {
    "name": "ipython",
    "version": 3
   },
   "file_extension": ".py",
   "mimetype": "text/x-python",
   "name": "python",
   "nbconvert_exporter": "python",
   "pygments_lexer": "ipython3",
   "version": "3.10.14"
  }
 },
 "nbformat": 4,
 "nbformat_minor": 2
}
